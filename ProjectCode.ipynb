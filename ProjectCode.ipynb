{
 "cells": [
  {
   "cell_type": "markdown",
   "id": "76ab18ad-72b1-4862-83b1-8d2514e83bef",
   "metadata": {},
   "source": [
    "# Final Project for ITCS 3156\n",
    "## Alec Pike\n",
    "## Project Code\n",
    "\n"
   ]
  },
  {
   "cell_type": "markdown",
   "id": "4eaffa74-66ab-4e58-ba89-30e032d8af92",
   "metadata": {},
   "source": [
    "## Topic: \n",
    "Given a word, determine whether the word is English or Mandarin Chinese based on letter frequencies. "
   ]
  },
  {
   "cell_type": "markdown",
   "id": "238216c0-569e-4d4f-9a3f-c38afa95a1ff",
   "metadata": {},
   "source": [
    "### Python Imports"
   ]
  },
  {
   "cell_type": "code",
   "execution_count": 1,
   "id": "919e2a9c-188c-4b38-bbd6-7f897e013a84",
   "metadata": {},
   "outputs": [],
   "source": [
    "from typing import List, Dict, Tuple, Callable\n",
    "import os\n",
    "import gc\n",
    "import traceback\n",
    "import warnings\n",
    "from pdb import set_trace\n",
    "\n",
    "import sklearn\n",
    "import numpy as np\n",
    "import pandas as pd\n",
    "import matplotlib.pyplot as plt"
   ]
  },
  {
   "cell_type": "markdown",
   "id": "6407d56f-b943-4644-ac75-a7666ef7f5b9",
   "metadata": {},
   "source": [
    "# 1 Data Preparation\n",
    "## 1.1 Import CSV\n",
    "\n"
   ]
  },
  {
   "cell_type": "code",
   "execution_count": null,
   "id": "11bb69b1-ee2a-4a0d-95fb-cb775d18597a",
   "metadata": {},
   "outputs": [],
   "source": []
  }
 ],
 "metadata": {
  "kernelspec": {
   "display_name": "Python 3 (ipykernel)",
   "language": "python",
   "name": "python3"
  },
  "language_info": {
   "codemirror_mode": {
    "name": "ipython",
    "version": 3
   },
   "file_extension": ".py",
   "mimetype": "text/x-python",
   "name": "python",
   "nbconvert_exporter": "python",
   "pygments_lexer": "ipython3",
   "version": "3.9.19"
  }
 },
 "nbformat": 4,
 "nbformat_minor": 5
}
